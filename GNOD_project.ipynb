{
 "cells": [
  {
   "cell_type": "code",
   "execution_count": null,
   "id": "8f5c3d6b",
   "metadata": {},
   "outputs": [],
   "source": [
    "### this recommender recommends songs bases on aduio features and is limites to one hit wonders \n",
    "#from 1900s to 2000s listed on playback fm"
   ]
  },
  {
   "cell_type": "code",
   "execution_count": 1,
   "id": "25631027",
   "metadata": {},
   "outputs": [],
   "source": [
    "from bs4 import BeautifulSoup\n",
    "import requests\n",
    "import pandas as pd\n",
    "import numpy as np\n",
    "\n",
    "from random import randint\n",
    "from time import sleep\n",
    "\n",
    "from pickle import load\n",
    "\n",
    "import sys\n",
    "import spotipy\n",
    "from spotipy.oauth2 import SpotifyClientCredentials\n",
    "from sklearn.cluster import KMeans\n",
    "\n",
    "import warnings\n",
    "warnings.filterwarnings(\"ignore\")"
   ]
  },
  {
   "cell_type": "code",
   "execution_count": 2,
   "id": "d840824f",
   "metadata": {},
   "outputs": [],
   "source": [
    "#read in top 100\n",
    "top100 = pd.read_pickle(\"top100.pkl\") \n",
    "#top100"
   ]
  },
  {
   "cell_type": "code",
   "execution_count": 4,
   "id": "c8ff864a",
   "metadata": {},
   "outputs": [
    {
     "data": {
      "text/html": [
       "<div>\n",
       "<style scoped>\n",
       "    .dataframe tbody tr th:only-of-type {\n",
       "        vertical-align: middle;\n",
       "    }\n",
       "\n",
       "    .dataframe tbody tr th {\n",
       "        vertical-align: top;\n",
       "    }\n",
       "\n",
       "    .dataframe thead th {\n",
       "        text-align: right;\n",
       "    }\n",
       "</style>\n",
       "<table border=\"1\" class=\"dataframe\">\n",
       "  <thead>\n",
       "    <tr style=\"text-align: right;\">\n",
       "      <th></th>\n",
       "      <th>title</th>\n",
       "      <th>artist</th>\n",
       "      <th>Kmeans_6:cluster</th>\n",
       "      <th>uri</th>\n",
       "    </tr>\n",
       "  </thead>\n",
       "  <tbody>\n",
       "    <tr>\n",
       "      <th>0</th>\n",
       "      <td>Family Affair</td>\n",
       "      <td>Mary J. Blige</td>\n",
       "      <td>1</td>\n",
       "      <td>spotify:track:3aw9iWUQ3VrPQltgwvN9Xu</td>\n",
       "    </tr>\n",
       "    <tr>\n",
       "      <th>1</th>\n",
       "      <td>Lose Yourself</td>\n",
       "      <td>Eminem</td>\n",
       "      <td>0</td>\n",
       "      <td>spotify:track:5Z01UMMf7V1o0MzF86s6WJ</td>\n",
       "    </tr>\n",
       "    <tr>\n",
       "      <th>2</th>\n",
       "      <td>The Joker And The Queen (feat. Taylor Swift)</td>\n",
       "      <td>Ed Sheeran</td>\n",
       "      <td>2</td>\n",
       "      <td>spotify:track:6N1K5OVVCopBjGViHs2IvP</td>\n",
       "    </tr>\n",
       "    <tr>\n",
       "      <th>3</th>\n",
       "      <td>On My Way (Marry Me)</td>\n",
       "      <td>Jennifer Lopez</td>\n",
       "      <td>2</td>\n",
       "      <td>spotify:track:0PjqDT5SzI91kgzGnylyOd</td>\n",
       "    </tr>\n",
       "    <tr>\n",
       "      <th>4</th>\n",
       "      <td>Showdown</td>\n",
       "      <td>Electric Light Orchestra</td>\n",
       "      <td>1</td>\n",
       "      <td>spotify:track:5xAZDlzqvI1wflhB4mzYoz</td>\n",
       "    </tr>\n",
       "    <tr>\n",
       "      <th>...</th>\n",
       "      <td>...</td>\n",
       "      <td>...</td>\n",
       "      <td>...</td>\n",
       "      <td>...</td>\n",
       "    </tr>\n",
       "    <tr>\n",
       "      <th>2266</th>\n",
       "      <td>Dirtee Disco</td>\n",
       "      <td>Dizzee Rascal</td>\n",
       "      <td>0</td>\n",
       "      <td>spotify:track:0APe3BOy7eHbhbsivMqY9Z</td>\n",
       "    </tr>\n",
       "    <tr>\n",
       "      <th>2267</th>\n",
       "      <td>What's Not To Love</td>\n",
       "      <td>Dwele</td>\n",
       "      <td>1</td>\n",
       "      <td>spotify:track:3z7RoqiRrSAkFDVp6EFFeK</td>\n",
       "    </tr>\n",
       "    <tr>\n",
       "      <th>2268</th>\n",
       "      <td>Giddy On Up</td>\n",
       "      <td>Laura Bell Bundy</td>\n",
       "      <td>1</td>\n",
       "      <td>spotify:track:1OQ0dRegnZE0TVA4mwxhsO</td>\n",
       "    </tr>\n",
       "    <tr>\n",
       "      <th>2269</th>\n",
       "      <td>Teach Me How To Dougie</td>\n",
       "      <td>Cali Swag District</td>\n",
       "      <td>1</td>\n",
       "      <td>spotify:track:61LtVmmkGr8P9I2tSPvdpf</td>\n",
       "    </tr>\n",
       "    <tr>\n",
       "      <th>2270</th>\n",
       "      <td>Ready To Start</td>\n",
       "      <td>Arcade Fire</td>\n",
       "      <td>0</td>\n",
       "      <td>spotify:track:01wsKcJ8ptqUmatpJlEGYj</td>\n",
       "    </tr>\n",
       "  </tbody>\n",
       "</table>\n",
       "<p>2271 rows × 4 columns</p>\n",
       "</div>"
      ],
      "text/plain": [
       "                                             title                    artist  \\\n",
       "0                                    Family Affair             Mary J. Blige   \n",
       "1                                    Lose Yourself                    Eminem   \n",
       "2     The Joker And The Queen (feat. Taylor Swift)                Ed Sheeran   \n",
       "3                             On My Way (Marry Me)            Jennifer Lopez   \n",
       "4                                         Showdown  Electric Light Orchestra   \n",
       "...                                            ...                       ...   \n",
       "2266                                  Dirtee Disco             Dizzee Rascal   \n",
       "2267                            What's Not To Love                     Dwele   \n",
       "2268                                   Giddy On Up          Laura Bell Bundy   \n",
       "2269                        Teach Me How To Dougie        Cali Swag District   \n",
       "2270                                Ready To Start               Arcade Fire   \n",
       "\n",
       "      Kmeans_6:cluster                                   uri  \n",
       "0                    1  spotify:track:3aw9iWUQ3VrPQltgwvN9Xu  \n",
       "1                    0  spotify:track:5Z01UMMf7V1o0MzF86s6WJ  \n",
       "2                    2  spotify:track:6N1K5OVVCopBjGViHs2IvP  \n",
       "3                    2  spotify:track:0PjqDT5SzI91kgzGnylyOd  \n",
       "4                    1  spotify:track:5xAZDlzqvI1wflhB4mzYoz  \n",
       "...                ...                                   ...  \n",
       "2266                 0  spotify:track:0APe3BOy7eHbhbsivMqY9Z  \n",
       "2267                 1  spotify:track:3z7RoqiRrSAkFDVp6EFFeK  \n",
       "2268                 1  spotify:track:1OQ0dRegnZE0TVA4mwxhsO  \n",
       "2269                 1  spotify:track:61LtVmmkGr8P9I2tSPvdpf  \n",
       "2270                 0  spotify:track:01wsKcJ8ptqUmatpJlEGYj  \n",
       "\n",
       "[2271 rows x 4 columns]"
      ]
     },
     "execution_count": 4,
     "metadata": {},
     "output_type": "execute_result"
    }
   ],
   "source": [
    "#read in song list with clusters\n",
    "song_clusters = pd.read_pickle(\"song_clusters.pkl\") \n",
    "#song_clusters"
   ]
  },
  {
   "cell_type": "code",
   "execution_count": 5,
   "id": "747a693e",
   "metadata": {},
   "outputs": [],
   "source": [
    "# import unsupervised cluster model and the scaler for audio features\n",
    "normalized = load(open('StandardScaler.pkl', 'rb'))\n",
    "kmeans = load(open('kmeans_model.pkl', 'rb'))"
   ]
  },
  {
   "cell_type": "code",
   "execution_count": 6,
   "id": "ac947596",
   "metadata": {},
   "outputs": [],
   "source": [
    "#rtead file with clientIDs and client secret\n",
    "secrets_file = open(\"spotifyIDs.txt\",\"r\")\n",
    "string = secrets_file.read()"
   ]
  },
  {
   "cell_type": "code",
   "execution_count": 7,
   "id": "0e5c3559",
   "metadata": {},
   "outputs": [],
   "source": [
    "secrets_dict={}\n",
    "for line in string.split('\\n'):\n",
    "    if len(line) > 0:\n",
    "        secrets_dict[line.split(':')[0]]=line.split(':')[1]"
   ]
  },
  {
   "cell_type": "code",
   "execution_count": 8,
   "id": "737c02a2",
   "metadata": {},
   "outputs": [],
   "source": [
    "#Initialize SpotiPy\n",
    "sp = spotipy.Spotify(auth_manager=SpotifyClientCredentials(client_id=secrets_dict['cid'],\n",
    "                                                           client_secret=secrets_dict['cs']))"
   ]
  },
  {
   "cell_type": "code",
   "execution_count": 9,
   "id": "c2659630",
   "metadata": {},
   "outputs": [
    {
     "name": "stdout",
     "output_type": "stream",
     "text": [
      "Enter a Song title you like: More I See\n"
     ]
    }
   ],
   "source": [
    "# ask for song input\n",
    "track= input(\"Enter a Song title you like: \")"
   ]
  },
  {
   "cell_type": "markdown",
   "id": "875f8719",
   "metadata": {},
   "source": [
    "### a user could make mistakes in the user promt, thats why we look at a close match to a title, not just an exact match, fuzzy libary is very useful in this"
   ]
  },
  {
   "cell_type": "code",
   "execution_count": 10,
   "id": "86a95f6d",
   "metadata": {},
   "outputs": [
    {
     "name": "stderr",
     "output_type": "stream",
     "text": [
      "/Users/test/opt/anaconda3/lib/python3.8/site-packages/fuzzywuzzy/fuzz.py:11: UserWarning: Using slow pure-python SequenceMatcher. Install python-Levenshtein to remove this warning\n",
      "  warnings.warn('Using slow pure-python SequenceMatcher. Install python-Levenshtein to remove this warning')\n"
     ]
    }
   ],
   "source": [
    "from fuzzywuzzy import fuzz\n",
    "from fuzzywuzzy import process\n",
    "\n",
    "mat1=[]\n",
    "\n",
    "#iterate through top100.title to extract the fuzzy ratio (how match the strings match)\n",
    "for i in top100.title:\n",
    "    mat1.append(process.extractOne(i, [track], scorer=fuzz.ratio))\n",
    "#dframe1['matches'] = mat1\n",
    "  \n",
    "#dframe1.show()"
   ]
  },
  {
   "cell_type": "code",
   "execution_count": 11,
   "id": "b5a17070",
   "metadata": {},
   "outputs": [],
   "source": [
    "# look if matching is for at least one value larger than threshold\n",
    "isintop100=False\n",
    "treshold=85\n",
    "\n",
    "for j in  range(len(mat1)):\n",
    "    if mat1[j][1] > treshold:\n",
    "        isintop100=True #if fuzz ratio of the strings matches more than 85% than the title is in our list, just has a typo or a space more or so\n",
    "        \n",
    "#isintop100"
   ]
  },
  {
   "cell_type": "markdown",
   "id": "efc08c77",
   "metadata": {},
   "source": [
    "## decide if song is in top 100 or not"
   ]
  },
  {
   "cell_type": "code",
   "execution_count": 12,
   "id": "45005901",
   "metadata": {},
   "outputs": [],
   "source": [
    "if  isintop100: #top100.title.isin([track]).any():  <-- used that earlier\n",
    "    random_song = randint(0,len(top100.title)) #get a random song number\n",
    "    print('Your song is a Top 100 track. You might also like: '+ top100.title[random_song]+' from '+ top100.artist[random_song])\n",
    "\n",
    "    sys.exit('Thanks for choosing us') #ends the script and we dont execute any of the below code\n",
    "    \n",
    "#if song is not in the top100 script will continue    "
   ]
  },
  {
   "cell_type": "code",
   "execution_count": 13,
   "id": "a1aa55c9",
   "metadata": {},
   "outputs": [
    {
     "name": "stdout",
     "output_type": "stream",
     "text": [
      "Please also enter a artist name: S. Carey\n"
     ]
    }
   ],
   "source": [
    "# ask for artist input\n",
    "artist= input(\"Please also enter a artist name: \")"
   ]
  },
  {
   "cell_type": "code",
   "execution_count": 14,
   "id": "6f1286d8",
   "metadata": {},
   "outputs": [],
   "source": [
    "#get spotify audio features of a song thats not in out list\n",
    "\n",
    "#make api request\n",
    "#track_api = sp.search(q=track, type='track', limit=1)\n",
    "track_api = sp.search(q=\"artist:\" + artist + \" track:\" + track, type=\"track\", limit=1)\n",
    "\n",
    "#get URI\n",
    "track_uri=track_api[\"tracks\"][\"items\"][0][\"uri\"]\n",
    "#get audio_features\n",
    "audio_features=sp.audio_features(track_uri)\n"
   ]
  },
  {
   "cell_type": "code",
   "execution_count": 15,
   "id": "aee88bbd",
   "metadata": {},
   "outputs": [],
   "source": [
    "#select numeric values\n",
    "X = pd.DataFrame.from_dict(audio_features)\n",
    "X_num = X.select_dtypes(include='number')\n",
    "#X_num"
   ]
  },
  {
   "cell_type": "code",
   "execution_count": 16,
   "id": "c85858ec",
   "metadata": {},
   "outputs": [],
   "source": [
    "#scale numeric values\n",
    "X_num_scaled=normalized.transform(X_num)\n",
    "scaled_df=pd.DataFrame(X_num_scaled,columns=X_num.columns)\n",
    "#scaled_df"
   ]
  },
  {
   "cell_type": "code",
   "execution_count": 17,
   "id": "20d8b844",
   "metadata": {},
   "outputs": [],
   "source": [
    "#select columns\n",
    "scaled_data=scaled_df[['danceability','energy','key','speechiness','acousticness','instrumentalness','liveness','valence','tempo']]"
   ]
  },
  {
   "cell_type": "code",
   "execution_count": 18,
   "id": "733982a2",
   "metadata": {},
   "outputs": [],
   "source": [
    "cluster = kmeans.predict(scaled_data)\n",
    "#cluster[0]"
   ]
  },
  {
   "cell_type": "code",
   "execution_count": 19,
   "id": "58d43771",
   "metadata": {},
   "outputs": [],
   "source": [
    "# recommend another song from the cluster we found\n",
    "same_cluster=song_clusters[song_clusters['Kmeans_6:cluster']==cluster[0]] #filter data for selected clsuter\n"
   ]
  },
  {
   "cell_type": "code",
   "execution_count": 20,
   "id": "693c4336",
   "metadata": {},
   "outputs": [],
   "source": [
    "df=same_cluster.sample() #select a random row of the selected dataframe"
   ]
  },
  {
   "cell_type": "code",
   "execution_count": 21,
   "id": "3de7590a",
   "metadata": {},
   "outputs": [
    {
     "name": "stdout",
     "output_type": "stream",
     "text": [
      "Based on your song More I See from S. Carey, we can also recommend you Gold from Kiiara\n"
     ]
    }
   ],
   "source": [
    "print('Based on your song '+ track +' from '+ artist+ ', we can also recommend you '+ df['title'].item() +' from '+df['artist'].item())"
   ]
  },
  {
   "cell_type": "code",
   "execution_count": null,
   "id": "4926ecfa",
   "metadata": {},
   "outputs": [],
   "source": [
    "#things to improve: \n",
    "# -train the model on a lot more and diverse songs than we did\n",
    "# -find the best classifier which is not necessarily k-emans\n",
    "# -also incldue thigns like genre type or year of song publication as parameters, so more diverse than just audio features\n"
   ]
  }
 ],
 "metadata": {
  "kernelspec": {
   "display_name": "Python 3",
   "language": "python",
   "name": "python3"
  },
  "language_info": {
   "codemirror_mode": {
    "name": "ipython",
    "version": 3
   },
   "file_extension": ".py",
   "mimetype": "text/x-python",
   "name": "python",
   "nbconvert_exporter": "python",
   "pygments_lexer": "ipython3",
   "version": "3.8.8"
  }
 },
 "nbformat": 4,
 "nbformat_minor": 5
}
